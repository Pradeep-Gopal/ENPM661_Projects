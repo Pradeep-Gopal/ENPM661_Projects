{
 "cells": [
  {
   "cell_type": "code",
   "execution_count": 1,
   "metadata": {},
   "outputs": [
    {
     "name": "stdout",
     "output_type": "stream",
     "text": [
      "Start Node\n",
      "-------------\n",
      "| 1 | 0 | 3 | \n",
      "-------------\n",
      "| 4 | 2 | 5 | \n",
      "-------------\n",
      "| 7 | 8 | 6 | \n",
      "-------------\n",
      "\n",
      "\n",
      "Step  1\n",
      "-------------\n",
      "| 1 | 2 | 3 | \n",
      "-------------\n",
      "| 4 | 0 | 5 | \n",
      "-------------\n",
      "| 7 | 8 | 6 | \n",
      "-------------\n",
      "\n",
      "\n",
      "Step  2\n",
      "-------------\n",
      "| 1 | 2 | 3 | \n",
      "-------------\n",
      "| 4 | 5 | 0 | \n",
      "-------------\n",
      "| 7 | 8 | 6 | \n",
      "-------------\n",
      "\n",
      "\n",
      "Achieved Goal Node\n",
      "-------------\n",
      "| 1 | 2 | 3 | \n",
      "-------------\n",
      "| 4 | 5 | 6 | \n",
      "-------------\n",
      "| 7 | 8 | 0 | \n",
      "-------------\n",
      "\n",
      "\n"
     ]
    }
   ],
   "source": [
    "import numpy as np\n",
    "\n",
    "def print_matrix(state):\n",
    "    counter = 0\n",
    "    for row in range(0, len(state), 3):\n",
    "        if counter == 0 :\n",
    "            print(\"-------------\")\n",
    "        for element in range(counter, len(state), 3):\n",
    "            if element <= counter:\n",
    "                print(\"|\", end=\" \")\n",
    "            print(int(state[element]), \"|\", end=\" \")\n",
    "        counter = counter +1\n",
    "        print(\"\\n-------------\")\n",
    "\n",
    "fname = 'nodePath.txt'\n",
    "data = np.loadtxt(fname)\n",
    "if len(data[1]) is not 9:\n",
    "    print(\"Format of the text file is incorrect, retry \")\n",
    "else:\n",
    "    for i in range(0, len(data)):\n",
    "        if i == 0:\n",
    "            print(\"Start Node\")\n",
    "        elif i == len(data)-1:\n",
    "            print(\"Achieved Goal Node\")\n",
    "        else:\n",
    "            print(\"Step \",i)\n",
    "        print_matrix(data[i])\n",
    "        print()\n",
    "        print()"
   ]
  },
  {
   "cell_type": "code",
   "execution_count": null,
   "metadata": {},
   "outputs": [],
   "source": []
  }
 ],
 "metadata": {
  "kernelspec": {
   "display_name": "Python 3",
   "language": "python",
   "name": "python3"
  },
  "language_info": {
   "codemirror_mode": {
    "name": "ipython",
    "version": 3
   },
   "file_extension": ".py",
   "mimetype": "text/x-python",
   "name": "python",
   "nbconvert_exporter": "python",
   "pygments_lexer": "ipython3",
   "version": "3.7.6"
  }
 },
 "nbformat": 4,
 "nbformat_minor": 4
}
