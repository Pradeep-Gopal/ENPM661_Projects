{
 "cells": [
  {
   "cell_type": "code",
   "execution_count": 128,
   "metadata": {},
   "outputs": [],
   "source": [
    "import cv2  \n",
    "import numpy as np\n",
    "\n",
    "infinity = 10000000000000000000\n",
    "height=200\n",
    "width =300\n",
    "\n",
    "blank_image = np.zeros((height,width,3),np.uint8)\n",
    "\n",
    "# x>=90 and x<= 110 and y>=40 and y<=60\n",
    "# x>=0 and x<=2 and y>=1 and y<=2\n",
    "#(x-160)^2+(y-50)^2 < 15^2\n",
    "\n",
    "# blank_image[40:40+20, 90:90+20] = (255,255,255)\n",
    "# blank_image[2:3, 0:3] = (255,255,255)\n",
    "\n",
    "# circle\n",
    "center_coordinates = (225, 50)  \n",
    "radius = 25\n",
    "color = (255, 255, 255) \n",
    "thickness = -1\n",
    "blank_image = cv2.circle(blank_image, center_coordinates, radius, color, thickness) \n",
    "\n",
    "# Ellipse\n",
    "\n",
    "cv2.imshow(\"T\",blank_image)\n",
    "cv2.waitKey(0)\n",
    "cv2.destroyAllWindows()"
   ]
  },
  {
   "cell_type": "code",
   "execution_count": null,
   "metadata": {},
   "outputs": [],
   "source": []
  }
 ],
 "metadata": {
  "kernelspec": {
   "display_name": "Python 2",
   "language": "python",
   "name": "python2"
  },
  "language_info": {
   "codemirror_mode": {
    "name": "ipython",
    "version": 2
   },
   "file_extension": ".py",
   "mimetype": "text/x-python",
   "name": "python",
   "nbconvert_exporter": "python",
   "pygments_lexer": "ipython2",
   "version": "2.7.12"
  }
 },
 "nbformat": 4,
 "nbformat_minor": 4
}
