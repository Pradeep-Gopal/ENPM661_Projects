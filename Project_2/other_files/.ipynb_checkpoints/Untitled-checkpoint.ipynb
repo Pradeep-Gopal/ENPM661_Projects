{
 "cells": [
  {
   "cell_type": "code",
   "execution_count": 1,
   "metadata": {},
   "outputs": [
    {
     "ename": "NameError",
     "evalue": "name 'function' is not defined",
     "output_type": "error",
     "traceback": [
      "\u001b[1;31m---------------------------------------------------------------------------\u001b[0m",
      "\u001b[1;31mNameError\u001b[0m                                 Traceback (most recent call last)",
      "\u001b[1;32m<ipython-input-1-0627c0958de8>\u001b[0m in \u001b[0;36m<module>\u001b[1;34m\u001b[0m\n\u001b[0;32m     16\u001b[0m     \u001b[1;32mfor\u001b[0m \u001b[0mj\u001b[0m \u001b[1;32min\u001b[0m \u001b[0mrange\u001b[0m\u001b[1;33m(\u001b[0m\u001b[0mwidth\u001b[0m\u001b[1;33m)\u001b[0m\u001b[1;33m:\u001b[0m\u001b[1;33m\u001b[0m\u001b[0m\n\u001b[0;32m     17\u001b[0m         \u001b[0minner_dict\u001b[0m \u001b[1;33m=\u001b[0m \u001b[1;33m{\u001b[0m\u001b[1;33m}\u001b[0m\u001b[1;33m\u001b[0m\u001b[0m\n\u001b[1;32m---> 18\u001b[1;33m         \u001b[0mfunction\u001b[0m\u001b[1;33m(\u001b[0m\u001b[0mi\u001b[0m\u001b[1;33m,\u001b[0m\u001b[0mj\u001b[0m\u001b[1;33m)\u001b[0m\u001b[1;33m\u001b[0m\u001b[0m\n\u001b[0m\u001b[0;32m     19\u001b[0m \u001b[1;33m\u001b[0m\u001b[0m\n\u001b[0;32m     20\u001b[0m \u001b[1;32mdef\u001b[0m \u001b[0mfunction\u001b[0m\u001b[1;33m(\u001b[0m\u001b[0mi\u001b[0m\u001b[1;33m,\u001b[0m\u001b[0mj\u001b[0m\u001b[1;33m)\u001b[0m\u001b[1;33m:\u001b[0m\u001b[1;33m\u001b[0m\u001b[0m\n",
      "\u001b[1;31mNameError\u001b[0m: name 'function' is not defined"
     ]
    }
   ],
   "source": [
    "import cv2  \n",
    "import numpy as np\n",
    "\n",
    "infinity = 1000000000000\n",
    "height=3\n",
    "width =3\n",
    "blank_image = np.zeros((height,width), np.uint8)\n",
    "\n",
    "cv2.imshow(\"dummy\",blank_image)\n",
    "cv2.waitKey(0)\n",
    "cv2.destroyAllWindows()\n",
    "\n",
    "maze = {}\n",
    "inner_dict = {}\n",
    "for i in range(height):\n",
    "    for j in range(width):\n",
    "        inner_dict = {}\n",
    "        function(i,j)\n",
    "        \n",
    "def function(i,j):\n",
    "    weight1, new_i1, new_j1 = top_left(i, j)\n",
    "    weight2, new_i2, new_j2 = top(i, j)\n",
    "    weight3, new_i3, new_j3 = top_right(i, j)\n",
    "    weight4, new_i4, new_j4 = right(i, j)\n",
    "    weight5, new_i5, new_j5 = bottom_right(i, j)\n",
    "    weight6, new_i6, new_j6 = bottom(i, j)\n",
    "    weight7, new_i7, new_j7 = bottom_left(i, j)\n",
    "    weight8, new_i8, new_j8 = left(i, j)\n",
    "\n",
    "    if (weight1 != None):\n",
    "        inner_dict[(new_i1, new_j1)] = weight1\n",
    "        maze[(i,j)] = inner_dict\n",
    "    if (weight2 != None):\n",
    "        inner_dict[(new_i2, new_j2)] = weight2\n",
    "        maze[(i,j)] = inner_dict\n",
    "    if (weight3 != None):\n",
    "        inner_dict[(new_i3, new_j3)] = weight3\n",
    "        maze[(i,j)] = inner_dict\n",
    "    if (weight4 != None):\n",
    "        inner_dict[(new_i4, new_j4)] = weight4\n",
    "        maze[(i,j)] = inner_dict\n",
    "    if (weight5 != None):\n",
    "        inner_dict[(new_i5, new_j5)] = weight5\n",
    "        maze[(i,j)] = inner_dict\n",
    "    if (weight6 != None):\n",
    "        inner_dict[(new_i6, new_j6)] = weight6\n",
    "        maze[(i,j)] = inner_dict\n",
    "    if (weight7 != None):\n",
    "        inner_dict[(new_i7, new_j7)] = weight7\n",
    "        maze[(i,j)] = inner_dict\n",
    "    if (weight8 != None):\n",
    "        inner_dict[(new_i8, new_j8)] = weight8\n",
    "        maze[(i,j)] = inner_dict\n"
   ]
  },
  {
   "cell_type": "code",
   "execution_count": 17,
   "metadata": {},
   "outputs": [],
   "source": []
  },
  {
   "cell_type": "code",
   "execution_count": 23,
   "metadata": {},
   "outputs": [
    {
     "data": {
      "text/plain": [
       "array([[0, 0, 0],\n",
       "       [0, 0, 0],\n",
       "       [0, 0, 0]], dtype=uint8)"
      ]
     },
     "execution_count": 23,
     "metadata": {},
     "output_type": "execute_result"
    }
   ],
   "source": [
    "blank_image"
   ]
  },
  {
   "cell_type": "code",
   "execution_count": 235,
   "metadata": {},
   "outputs": [
    {
     "name": "stdout",
     "output_type": "stream",
     "text": [
      "top_left called\n",
      "top called\n",
      "top_right called\n",
      "right called\n",
      "bottom_right called\n",
      "bottom called\n",
      "bottom_left called\n",
      "left called\n",
      "top_left called\n",
      "top called\n",
      "top_right called\n",
      "right called\n",
      "bottom_right called\n",
      "bottom called\n",
      "bottom_left called\n",
      "left called\n",
      "top_left called\n",
      "top called\n",
      "top_right called\n",
      "right called\n",
      "bottom_right called\n",
      "bottom called\n",
      "bottom_left called\n",
      "left called\n",
      "top_left called\n",
      "top called\n",
      "top_right called\n",
      "right called\n",
      "bottom_right called\n",
      "bottom called\n",
      "bottom_left called\n",
      "left called\n",
      "top_left called\n",
      "top called\n",
      "top_right called\n",
      "right called\n",
      "bottom_right called\n",
      "bottom called\n",
      "bottom_left called\n",
      "left called\n",
      "top_left called\n",
      "top called\n",
      "top_right called\n",
      "right called\n",
      "bottom_right called\n",
      "bottom called\n",
      "bottom_left called\n",
      "left called\n",
      "top_left called\n",
      "top called\n",
      "top_right called\n",
      "right called\n",
      "bottom_right called\n",
      "bottom called\n",
      "bottom_left called\n",
      "left called\n",
      "top_left called\n",
      "top called\n",
      "top_right called\n",
      "right called\n",
      "bottom_right called\n",
      "bottom called\n",
      "bottom_left called\n",
      "left called\n",
      "top_left called\n",
      "top called\n",
      "top_right called\n",
      "right called\n",
      "bottom_right called\n",
      "bottom called\n",
      "bottom_left called\n",
      "left called\n"
     ]
    }
   ],
   "source": [
    "maze = {}\n",
    "inner_dict = {}\n",
    "for i in range(height):\n",
    "    for j in range(width):\n",
    "        inner_dict = {}\n",
    "        function(i,j)\n",
    "\n",
    "\n",
    "\n",
    "\n",
    "        "
   ]
  },
  {
   "cell_type": "code",
   "execution_count": 186,
   "metadata": {},
   "outputs": [],
   "source": []
  },
  {
   "cell_type": "code",
   "execution_count": 236,
   "metadata": {},
   "outputs": [],
   "source": [
    "def top_left(i,j):\n",
    "    print(\"top_left called\")\n",
    "    cost = 1.414\n",
    "    new_i = i-1\n",
    "    new_j = j-1\n",
    "    if ((new_i < 0) or (new_j < 0) or (new_i > width-1) or (new_j > height-1)):\n",
    "        return None,None,None\n",
    "    else:\n",
    "        return cost, new_i, new_j\n",
    "\n",
    "def top(i,j):\n",
    "    print(\"top called\")\n",
    "    cost = 1\n",
    "    new_i = i\n",
    "    new_j = j-1\n",
    "    if (new_i < 0 or new_j < 0 or new_i > width-1 or new_j > height-1):\n",
    "        return None,None,None\n",
    "    else:\n",
    "        return cost, new_i, new_j\n",
    "    \n",
    "def top_right(i,j):\n",
    "    print(\"top_right called\")\n",
    "    cost = 1.414\n",
    "    new_i = i+1\n",
    "    new_j = j-1\n",
    "    if (new_i < 0 or new_j < 0 or new_i > width-1 or new_j > height-1):\n",
    "        return None,None,None\n",
    "    else:\n",
    "        return cost, new_i, new_j\n",
    "    \n",
    "def right(i,j):\n",
    "    print(\"right called\")\n",
    "    cost = 1\n",
    "    new_i = i+1\n",
    "    new_j = j\n",
    "    if (new_i < 0 or new_j < 0 or new_i > width-1 or new_j > height-1):\n",
    "        return None,None,None\n",
    "    else:\n",
    "        return cost, new_i, new_j\n",
    "    \n",
    "    \n",
    "def bottom_right(i,j):\n",
    "    print(\"bottom_right called\")\n",
    "    cost = 1.414\n",
    "    new_i = i+1\n",
    "    new_j = j+1\n",
    "    if (new_i < 0 or new_j < 0 or new_i > width-1 or new_j > height-1):\n",
    "        return None,None,None\n",
    "    else:\n",
    "        return cost, new_i, new_j\n",
    "\n",
    "    \n",
    "def bottom(i,j):\n",
    "    print(\"bottom called\")\n",
    "    cost = 1\n",
    "    new_i = i\n",
    "    new_j = j+1\n",
    "    if (new_i < 0 or new_j < 0 or new_i > width-1 or new_j > height-1):\n",
    "        return None,None,None\n",
    "    else:\n",
    "        return cost, new_i, new_j\n",
    "\n",
    "    \n",
    "def bottom_left(i,j):\n",
    "    print(\"bottom_left called\")\n",
    "    cost = 1.414\n",
    "    new_i = i-1\n",
    "    new_j = j+1\n",
    "    if (new_i < 0 or new_j < 0 or new_i > width-1 or new_j > height-1):\n",
    "        return None,None,None\n",
    "    else:\n",
    "        return cost, new_i, new_j\n",
    "    \n",
    "    \n",
    "def left(i,j):\n",
    "    print(\" called\")\n",
    "    cost = 1\n",
    "    new_i = i-1\n",
    "    new_j = j\n",
    "    if (new_i < 0 or new_j < 0 or new_i > width-1 or new_j > height-1):\n",
    "        return None,None,None\n",
    "    else:\n",
    "        return cost, new_i, new_j\n",
    "    \n",
    "\n",
    "        "
   ]
  },
  {
   "cell_type": "code",
   "execution_count": 195,
   "metadata": {},
   "outputs": [
    {
     "data": {
      "text/plain": [
       "{(0, 0): {(0, 1): 1, (1, 0): 1, (1, 1): 1.414}}"
      ]
     },
     "execution_count": 195,
     "metadata": {},
     "output_type": "execute_result"
    }
   ],
   "source": [
    "maze"
   ]
  },
  {
   "cell_type": "code",
   "execution_count": 208,
   "metadata": {},
   "outputs": [
    {
     "data": {
      "text/plain": [
       "{(0, 0): {(0, 1): 1, (1, 0): 1, (1, 1): 1.414},\n",
       " (0, 1): {(0, 0): 1, (0, 2): 1, (1, 0): 1.414, (1, 1): 1, (1, 2): 1.414},\n",
       " (0, 2): {(0, 1): 1, (1, 1): 1.414, (1, 2): 1},\n",
       " (1, 0): {(0, 0): 1, (0, 1): 1.414, (1, 1): 1, (2, 0): 1, (2, 1): 1.414},\n",
       " (1, 1): {(0, 0): 1.414,\n",
       "  (0, 1): 1,\n",
       "  (0, 2): 1.414,\n",
       "  (1, 0): 1,\n",
       "  (1, 2): 1,\n",
       "  (2, 0): 1.414,\n",
       "  (2, 1): 1,\n",
       "  (2, 2): 1.414},\n",
       " (1, 2): {(0, 1): 1.414, (0, 2): 1, (1, 1): 1, (2, 1): 1.414, (2, 2): 1},\n",
       " (2, 0): {(1, 0): 1, (1, 1): 1.414, (2, 1): 1},\n",
       " (2, 1): {(1, 0): 1.414, (1, 1): 1, (1, 2): 1.414, (2, 0): 1, (2, 2): 1},\n",
       " (2, 2): {(1, 1): 1.414, (1, 2): 1, (2, 1): 1}}"
      ]
     },
     "execution_count": 208,
     "metadata": {},
     "output_type": "execute_result"
    }
   ],
   "source": [
    "maze"
   ]
  },
  {
   "cell_type": "code",
   "execution_count": 205,
   "metadata": {},
   "outputs": [
    {
     "name": "stdout",
     "output_type": "stream",
     "text": [
      "top_left called\n",
      "top called\n",
      "top_right called\n",
      "right called\n",
      "bottom_right called\n",
      "bottom called\n",
      "bottom_left called\n",
      "left called\n"
     ]
    }
   ],
   "source": [
    "maze= {}\n",
    "inner_dict = {}\n",
    "function(2,2)"
   ]
  },
  {
   "cell_type": "code",
   "execution_count": 224,
   "metadata": {},
   "outputs": [
    {
     "data": {
      "text/plain": [
       "{(0, 0): {(0, 1): 1, (1, 0): 1, (1, 1): 1.414},\n",
       " (0, 1): {(0, 0): 1, (0, 2): 1, (1, 0): 1.414, (1, 1): 1, (1, 2): 1.414},\n",
       " (0, 2): {(0, 1): 1, (1, 1): 1.414, (1, 2): 1},\n",
       " (1, 0): {(0, 0): 1, (0, 1): 1.414, (1, 1): 1, (2, 0): 1, (2, 1): 1.414},\n",
       " (1, 1): {(0, 0): 1.414,\n",
       "  (0, 1): 1,\n",
       "  (0, 2): 1.414,\n",
       "  (1, 0): 1,\n",
       "  (1, 2): 1,\n",
       "  (2, 0): 1.414,\n",
       "  (2, 1): 1,\n",
       "  (2, 2): 1.414},\n",
       " (1, 2): {(0, 1): 1.414, (0, 2): 1, (1, 1): 1, (2, 1): 1.414, (2, 2): 1},\n",
       " (2, 0): {(1, 0): 1, (1, 1): 1.414, (2, 1): 1},\n",
       " (2, 1): {(1, 0): 1.414, (1, 1): 1, (1, 2): 1.414, (2, 0): 1, (2, 2): 1},\n",
       " (2, 2): {(1, 1): 1.414, (1, 2): 1, (2, 1): 1}}"
      ]
     },
     "execution_count": 224,
     "metadata": {},
     "output_type": "execute_result"
    }
   ],
   "source": [
    "maze"
   ]
  },
  {
   "cell_type": "code",
   "execution_count": 214,
   "metadata": {},
   "outputs": [],
   "source": [
    "maze1 = {(0,0):{(1,0):1,(1,1):1.414,(0,1):1},\n",
    "        (1,0):{(0,0):1,(2,0):1,(1,1):1,(0,1):1.414,(2,1):1.414},\n",
    "        (2,0):{(1,0):1,(2,1):1,(1,1):1.414},\n",
    "        (2,1):{(2,0):1,(2,2):1,(1,1):1,(1,0):1.414,(1,2):1.414},\n",
    "        (2,2):{(2,1):1,(1,2):1,(1,1):1.414},\n",
    "        (1,2):{(0,2):1,(2,2):1,(1,1):1,(0,1):1.414,(2,1):1.414},\n",
    "        (0,2):{(0,1):1,(1,2):1,(1,1):1.414},\n",
    "        (0,1):{(0,0):1,(0,2):1,(1,1):1,(1,0):1.414,(1,2):1.414},\n",
    "        (1,1):{(0,1):1,(0,0):1.414,(1,0):1,(2,0):1.414,(2,1):1,(2,2):1.414,(1,2):1,(0,2):1.414}}"
   ]
  },
  {
   "cell_type": "code",
   "execution_count": 225,
   "metadata": {},
   "outputs": [
    {
     "data": {
      "text/plain": [
       "True"
      ]
     },
     "execution_count": 225,
     "metadata": {},
     "output_type": "execute_result"
    }
   ],
   "source": []
  },
  {
   "cell_type": "code",
   "execution_count": 237,
   "metadata": {},
   "outputs": [
    {
     "name": "stdout",
     "output_type": "stream",
     "text": [
      "Shortest distance is 1.414\n",
      "And the shortest_path is [(1, 0), (0, 1)]\n"
     ]
    }
   ],
   "source": [
    "#maze = {'a':{'b':10,'c':3},'b':{'c':1,'d':2},'c':{'b':4,'d':8,'e':2},'d':{'e':7},'e':{'d':9}}\n",
    "#maze = {'a':{'b':10,'c':3},'b':{'a':10,'c':1,'d':2},'c':{'a':3,'b':1,'d':8,'e':2},'d':{'b':2,'c':8,'e':7},'e':{'c':2,'d':7}}\n",
    "#maze = {'a':{'b':1,'i':1.414,'h':1},'b':{'a':1,'c':1,'i':1},'c':{'b':1,'d':1,'i':1.414},'d':{'c':1,'e':1,'i':1},'e':{'d':1,'f':1,'i':1.414},'f':{'g':1,'e':1,'i':1},'g':{'h':1,'f':1,'i':1},'h':{'a':1,'g':1,'i':1},'i':{'h':1,'a':1.414,'b':1,'c':1.414,'d':1,'e':1.414,'f':1,'g':1.414}}\n",
    "#maze = {'(0,0)':{'(1,0)':1,'(1,1)':1.414,'(0,1)':1},'(1,0)':{'(0,0)':1,'(2,0)':1,'(1,1)':1},'(2,0)':{'(1,0)':1,'(2,1)':1,'(1,1)':1.414},'(2,1)':{'(2,0)':1,'(2,2)':1,'(1,1)':1},'(2,2)':{'(2,1)':1,'(1,2)':1,'(1,1)':1.414},'(1,2)':{'(0,2)':1,'(2,2)':1,'(1,1)':1},'(0,2)':{'(0,1)':1,'(1,2)':1,'(1,1)':1},'(0,1)':{'(0,0)':1,'(0,2)':1,'(1,1)':1},'(1,1)':{'(0,1)':1,'(0,0)':1.414,'(1,0)':1,'(2,0)':1.414,'(2,1)':1,'(2,2)':1.414,'(1,2)':1,'(0,2)':1.414}}\n",
    "#maze = {'[0,0]':{'[1,0]':1,'[1,1]':1.414,'[0,1]':1},'[1,0]':{'[0,0]':1,'[2,0]':1,'[1,1]':1},'[2,0]':{'[1,0]':1,'[2,1]':1,'[1,1]':1.414},'[2,1]':{'[2,0]':1,'[2,2]':1,'[1,1]':1},'[2,2]':{'[2,1]':1,'[1,2]':1,'[1,1]':1.414},'[1,2]':{'[0,2]':1,'[2,2]':1,'[1,1]':1},'[0,2]':{'[0,1]':1,'[1,2]':1,'[1,1]':1},'[0,1]':{'[0,0]':1,'[0,2]':1,'[1,1]':1},'[1,1]':{'[0,1]':1,'[0,0]':1.414,'[1,0]':1,'[2,0]':1.414,'[2,1]':1,'[2,2]':1.414,'[1,2]':1,'[0,2]':1.414}}\n",
    "\n",
    "# maze = {(0,0):{(1,0):1,(1,1):1.414,(0,1):1},\n",
    "#         (1,0):{(0,0):1,(2,0):1,(1,1):1},\n",
    "#         (2,0):{(1,0):1,(2,1):1,(1,1):1.414},\n",
    "#         (2,1):{(2,0):1,(2,2):1,(1,1):1},\n",
    "#         (2,2):{(2,1):1,(1,2):1,(1,1):1.414},\n",
    "#         (1,2):{(0,2):1,(2,2):1,(1,1):1},\n",
    "#         (0,2):{(0,1):1,(1,2):1,(1,1):1},\n",
    "#         (0,1):{(0,0):1,(0,2):1,(1,1):1},\n",
    "#         (1,1):{(0,1):1,(0,0):1.414,(1,0):1,(2,0):1.414,(2,1):1,(2,2):1.414,(1,2):1,(0,2):1.414}}\n",
    "\n",
    "\n",
    "# maze = {(0,0):{(1,0):1,(1,1):1.414,(0,1):1},\n",
    "#         (1,0):{(0,0):1,(2,0):1,(1,1):1,(0,1):1.414,(2,1):1.414},\n",
    "#         (2,0):{(1,0):1,(2,1):1,(1,1):1.414},\n",
    "#         (2,1):{(2,0):1,(2,2):1,(1,1):1,(1,0):1.414,(1,2):1.414},\n",
    "#         (2,2):{(2,1):1,(1,2):1,(1,1):1.414},\n",
    "#         (1,2):{(0,2):1,(2,2):1,(1,1):1,(0,1):1.414,(2,1):1.414},\n",
    "#         (0,2):{(0,1):1,(1,2):1,(1,1):1},\n",
    "#         (0,1):{(0,0):1,(0,2):1,(1,1):1,(1,0):1.414,(1,2):1.414},\n",
    "#         (1,1):{(0,1):1,(0,0):1.414,(1,0):1,(2,0):1.414,(2,1):1,(2,2):1.414,(1,2):1,(0,2):1.414}}\n",
    "\n",
    "\n",
    "def dijkstra(maze,start,goal):\n",
    "    dist_from_start = {}\n",
    "    parent_node = {}\n",
    "    Allnodes = maze\n",
    "    infinity = 1000000000\n",
    "    shortest_path = []\n",
    "    for node in Allnodes:\n",
    "        dist_from_start[node] = infinity\n",
    "    dist_from_start[start] = 0\n",
    " \n",
    "    while Allnodes:\n",
    "        minNode = None\n",
    "        for node in Allnodes:\n",
    "            if minNode is None:\n",
    "                minNode = node\n",
    "            elif dist_from_start[node] < dist_from_start[minNode]:\n",
    "                minNode = node\n",
    " \n",
    "        for childNode, cost in maze[minNode].items():\n",
    "            if cost + dist_from_start[minNode] < dist_from_start[childNode]:\n",
    "                dist_from_start[childNode] = cost + dist_from_start[minNode]\n",
    "                parent_node[childNode] = minNode\n",
    "        Allnodes.pop(minNode)\n",
    " \n",
    "    currentNode = goal\n",
    "    while currentNode != start:\n",
    "        try:\n",
    "            shortest_path.insert(0,currentNode)\n",
    "            currentNode = parent_node[currentNode]\n",
    "        except KeyError:\n",
    "            print('shortest_path not reachable')\n",
    "            break\n",
    "    shortest_path.insert(0,start)\n",
    "    if dist_from_start[goal] != infinity:\n",
    "        print('Shortest distance is ' + str(dist_from_start[goal]))\n",
    "        print('And the shortest_path is ' + str(shortest_path))\n",
    "        return shortest_path\n",
    " \n",
    "\n",
    "short_path = dijkstra(maze, (1,0), (0,1))\n"
   ]
  },
  {
   "cell_type": "code",
   "execution_count": null,
   "metadata": {},
   "outputs": [],
   "source": []
  },
  {
   "cell_type": "code",
   "execution_count": null,
   "metadata": {},
   "outputs": [],
   "source": []
  },
  {
   "cell_type": "code",
   "execution_count": null,
   "metadata": {},
   "outputs": [],
   "source": []
  }
 ],
 "metadata": {
  "kernelspec": {
   "display_name": "Python 3",
   "language": "python",
   "name": "python3"
  }
 },
 "nbformat": 4,
 "nbformat_minor": 4
}
