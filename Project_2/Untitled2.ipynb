{
 "cells": [
  {
   "cell_type": "code",
   "execution_count": 66,
   "metadata": {},
   "outputs": [],
   "source": [
    "import cv2  # Not actually necessary if you just want to create an image.\n",
    "import numpy as np\n",
    "\n",
    "infinity = 1000000000000\n",
    "height=3\n",
    "width =3\n",
    "blank_image = np.zeros((height,width), np.uint8)"
   ]
  },
  {
   "cell_type": "code",
   "execution_count": null,
   "metadata": {},
   "outputs": [],
   "source": [
    "cv2.imshow(\"dummy\",blank_image)\n",
    "cv2.waitKey(0)\n",
    "cv2.destroyAllWindows()"
   ]
  },
  {
   "cell_type": "code",
   "execution_count": 30,
   "metadata": {},
   "outputs": [],
   "source": [
    "start = (1,1)\n",
    "\n",
    "\n",
    "AllNodes = {}\n",
    "for i in range(height):\n",
    "    for j in range(width):\n",
    "        AllNodes[(i,j)] = 9999999\n",
    "        \n",
    "AllNodes[start] = 0\n",
    "        \n"
   ]
  },
  {
   "cell_type": "code",
   "execution_count": null,
   "metadata": {},
   "outputs": [],
   "source": []
  },
  {
   "cell_type": "code",
   "execution_count": 11,
   "metadata": {},
   "outputs": [
    {
     "name": "stdout",
     "output_type": "stream",
     "text": [
      "Shortest distance is 2.828\n",
      "And the shortest_path is ['(0,0)', '(1,1)', '(2,2)']\n"
     ]
    }
   ],
   "source": [
    "#maze = {'a':{'b':10,'c':3},'b':{'c':1,'d':2},'c':{'b':4,'d':8,'e':2},'d':{'e':7},'e':{'d':9}}\n",
    "#maze = {'a':{'b':10,'c':3},'b':{'a':10,'c':1,'d':2},'c':{'a':3,'b':1,'d':8,'e':2},'d':{'b':2,'c':8,'e':7},'e':{'c':2,'d':7}}\n",
    "#maze = {'a':{'b':1,'i':1.414,'h':1},'b':{'a':1,'c':1,'i':1},'c':{'b':1,'d':1,'i':1.414},'d':{'c':1,'e':1,'i':1},'e':{'d':1,'f':1,'i':1.414},'f':{'g':1,'e':1,'i':1},'g':{'h':1,'f':1,'i':1},'h':{'a':1,'g':1,'i':1},'i':{'h':1,'a':1.414,'b':1,'c':1.414,'d':1,'e':1.414,'f':1,'g':1.414}}\n",
    "maze = {'(0,0)':{'(1,0)':1,'(1,1)':1.414,'(0,1)':1},'(1,0)':{'(0,0)':1,'(2,0)':1,'(1,1)':1},'(2,0)':{'(1,0)':1,'(2,1)':1,'(1,1)':1.414},'(2,1)':{'(2,0)':1,'(2,2)':1,'(1,1)':1},'(2,2)':{'(2,1)':1,'(1,2)':1,'(1,1)':1.414},'(1,2)':{'(0,2)':1,'(2,2)':1,'(1,1)':1},'(0,2)':{'(0,1)':1,'(1,2)':1,'(1,1)':1},'(0,1)':{'(0,0)':1,'(0,2)':1,'(1,1)':1},'(1,1)':{'(0,1)':1,'(0,0)':1.414,'(1,0)':1,'(2,0)':1.414,'(2,1)':1,'(2,2)':1.414,'(1,2)':1,'(0,2)':1.414}}\n",
    "\n",
    "\n",
    "def dijkstra(maze,start,goal):\n",
    "    dist_from_start = {}\n",
    "    parent_node = {}\n",
    "    Allnodes = maze\n",
    "    infinity = 1000000000\n",
    "    shortest_path = []\n",
    "    for node in Allnodes:\n",
    "        dist_from_start[node] = infinity\n",
    "    dist_from_start[start] = 0\n",
    " \n",
    "    while Allnodes:\n",
    "        minNode = None\n",
    "        for node in Allnodes:\n",
    "            if minNode is None:\n",
    "                minNode = node\n",
    "            elif dist_from_start[node] < dist_from_start[minNode]:\n",
    "                minNode = node\n",
    " \n",
    "        for childNode, cost in maze[minNode].items():\n",
    "            if cost + dist_from_start[minNode] < dist_from_start[childNode]:\n",
    "                dist_from_start[childNode] = cost + dist_from_start[minNode]\n",
    "                parent_node[childNode] = minNode\n",
    "        Allnodes.pop(minNode)\n",
    " \n",
    "    currentNode = goal\n",
    "    while currentNode != start:\n",
    "        try:\n",
    "            shortest_path.insert(0,currentNode)\n",
    "            currentNode = parent_node[currentNode]\n",
    "        except KeyError:\n",
    "            print('shortest_path not reachable')\n",
    "            break\n",
    "    shortest_path.insert(0,start)\n",
    "    if dist_from_start[goal] != infinity:\n",
    "        print('Shortest distance is ' + str(dist_from_start[goal]))\n",
    "        print('And the shortest_path is ' + str(shortest_path))\n",
    "        return shortest_path\n",
    " \n",
    "\n",
    "short_path = dijkstra(maze, '(0,0)', '(2,2)')\n"
   ]
  },
  {
   "cell_type": "code",
   "execution_count": 12,
   "metadata": {},
   "outputs": [
    {
     "data": {
      "text/plain": [
       "['(0,0)', '(1,1)', '(2,2)']"
      ]
     },
     "execution_count": 12,
     "metadata": {},
     "output_type": "execute_result"
    }
   ],
   "source": [
    "short_path"
   ]
  },
  {
   "cell_type": "code",
   "execution_count": 15,
   "metadata": {},
   "outputs": [],
   "source": [
    "a = short_path[0]"
   ]
  },
  {
   "cell_type": "code",
   "execution_count": 18,
   "metadata": {},
   "outputs": [
    {
     "data": {
      "text/plain": [
       "'('"
      ]
     },
     "execution_count": 18,
     "metadata": {},
     "output_type": "execute_result"
    }
   ],
   "source": [
    "a[0]"
   ]
  },
  {
   "cell_type": "code",
   "execution_count": 19,
   "metadata": {},
   "outputs": [
    {
     "data": {
      "text/plain": [
       "'0'"
      ]
     },
     "execution_count": 19,
     "metadata": {},
     "output_type": "execute_result"
    }
   ],
   "source": [
    "a[1]"
   ]
  },
  {
   "cell_type": "code",
   "execution_count": 20,
   "metadata": {},
   "outputs": [
    {
     "data": {
      "text/plain": [
       "','"
      ]
     },
     "execution_count": 20,
     "metadata": {},
     "output_type": "execute_result"
    }
   ],
   "source": [
    "a[2]"
   ]
  },
  {
   "cell_type": "code",
   "execution_count": 21,
   "metadata": {},
   "outputs": [
    {
     "data": {
      "text/plain": [
       "'0'"
      ]
     },
     "execution_count": 21,
     "metadata": {},
     "output_type": "execute_result"
    }
   ],
   "source": [
    "a[3]"
   ]
  },
  {
   "cell_type": "code",
   "execution_count": 22,
   "metadata": {},
   "outputs": [
    {
     "data": {
      "text/plain": [
       "')'"
      ]
     },
     "execution_count": 22,
     "metadata": {},
     "output_type": "execute_result"
    }
   ],
   "source": [
    "a[4]"
   ]
  },
  {
   "cell_type": "code",
   "execution_count": null,
   "metadata": {},
   "outputs": [],
   "source": []
  },
  {
   "cell_type": "code",
   "execution_count": null,
   "metadata": {},
   "outputs": [],
   "source": []
  }
 ],
 "metadata": {
  "kernelspec": {
   "display_name": "Python 2",
   "language": "python",
   "name": "python2"
  },
  "language_info": {
   "codemirror_mode": {
    "name": "ipython",
    "version": 2
   },
   "file_extension": ".py",
   "mimetype": "text/x-python",
   "name": "python",
   "nbconvert_exporter": "python",
   "pygments_lexer": "ipython2",
   "version": "2.7.12"
  }
 },
 "nbformat": 4,
 "nbformat_minor": 4
}
